{
 "cells": [
  {
   "cell_type": "markdown",
   "metadata": {},
   "source": [
    "**Ex.1 - Após termos discutido sobre o Tensorflow, em sua opinião, quais são as principais\n",
    "vantagens da criação de um grafo de computação, em vez de executar diretamente os\n",
    "cálculos? Quais são as principais desvantagens?**\n",
    "\n",
    "R: As principais vantagens são :\n",
    "\n",
    "- Facil usar é confiavel (estável e de fácil manuntenção) e escalável, e bem documentado.\n",
    "- O TensorFlow pode calcular automaticamente os gradientes para voce (utilizando rever se mode autodiff).\n",
    "- O TensorFlow pode cuidar da execução das operações em paralelos em diferentes theads;\n",
    "- Isto facilita a execução do mesmo modelo em diferentes dispositivos; \n",
    "- Simplifica a instrospeção por exemplo , para visualizar o modelo no TensorBoard.\n",
    "\n",
    "Principais desvantagens : \n",
    "- Deixa a curva de aprendizado mas ingreme \n",
    "- dificulta a depuração passo a passo"
   ]
  },
  {
   "cell_type": "markdown",
   "metadata": {},
   "source": [
    "**Ex.2 - O comando a_val = a.eval(session=sess) é equivalente a a_val = sess.run(a) ? ( Dica :\n",
    "crie um grafo e execute as duas instruções em uma sessão e verifique o resultado.)**\n",
    "\n",
    "R: sim, a declaração a_val = a.eval(session=sess) é equivalente a a_val = sessrun(a)."
   ]
  },
  {
   "cell_type": "markdown",
   "metadata": {},
   "source": [
    "**Ex.3 - O comando a_val, b_val = a.eval(session=sess), b.eval (session=sess) é equivalente\n",
    "a a_val, b_val = sess.run ([a, b]) ?**\n",
    "\n",
    "R:Não , a declaração a_val, b_val=a.eval(session=sess), b.eval(sesssion=sess) não é equivalente a a_val, b_val = sess.run([a,b]).  Na verdade a primeira declaração executa o grafo duas vezes ( uma vez para calcular a, uma para calcular b), enquanto a segunda instrução executa o grafo apenas uma vez . Se qualquer uma dessas operações ou as operações (ou as operações das quaias dependem) tiverem efeitos colateriais (por exemplo, uma variavel é modificada um item é inserido em uma fila ou um leitor le um arquivo), então os defeitos serão diferentes . Se elas não tiverem efeitos colaterais, as duas declarações retornarão o memso resultado , mas a segunda será mas rápida do que a primeira."
   ]
  },
  {
   "cell_type": "markdown",
   "metadata": {},
   "source": [
    "**Ex.4 -  É possível se executar dois grafos na mesma sessão?**\n",
    "\n",
    "R:Não , voce não pode executar dois grafos na mesma sessão para isso seria necessario primeiro mesclar os grafos em um grafo unico.\n",
    "    \n",
    "    \n",
    "**Ex.5 -  Quando uma variável é inicializada? Quando ela é destruída?**\n",
    "\n",
    "R: Uma variavel é inicializada quando você chama seu inicializador , é destruida quando a sessão termina. No Tensorflow distribuido , fechar uma sessão não destroi a variável, pos elas vivem em contêiners no cluster . Para destruir uma variável, voce precisa limpar seu conteiner."
   ]
  },
  {
   "cell_type": "markdown",
   "metadata": {},
   "source": [
    "**Ex.6 - Qual é a diferença entre um nó do tipo placeholder e um nó do tipo variável?**\n",
    "\n",
    "R: Um nó do tipo Placeholder normalmente é utilizado para fornecer dados de treiunamentos ou de treinos ao TensorFlow durante a fase de execução e tambem são úteis para passar um valor para um nó de atribuição, para alterar o valor o valor de uma variável (por exempo pesoe de modelos).\n",
    "\n",
    "Um nó do tipo variavel é uma operação que contem um valor e que irá retorna-lo se voce executar a variavel , mas , antes de poder executa-la e que irá retorna-lo se voce executar a variável , mas antes de pode executa-las voce precisa inicializa-la. VOce pode alterar o valor da variável (por exemplom utilizando uma operação de atribuição).Ela é estavel a variavel mantem o mesmo vaçor em sucessivas execuções do grafo. Normalmente, é utilizada para manter parametros do modelo, mas tambem oara outros fins (por exemplo, para contar a etapa de treinamento global)."
   ]
  },
  {
   "cell_type": "markdown",
   "metadata": {},
   "source": [
    "**Ex. -  O que acontece quando você executa um grafo para avaliar uma operação que\n",
    "depende de um placeholder, mas você não fornece nenhum valor para o placeholder?\n",
    "O que acontece se a operação não depender do placeholder?**\n",
    "\n",
    "R: se você executa o grafo para avaliar uma operação que depende de um placeholder  mas não alimenta o seu valor , recebera uma execução. Nenhuma excecão sera levantada se a operação não depender do placeholder.Uando voce executa um grafo , podera alimentar o valor de saida de qualquer operação , não apenas o valor dos placeholders.\n",
    "\n",
    "**Questão.8 -  Como você pode definir o valor de uma variável com qualquer valor desejado durante a\n",
    "fase de execução? (Dica : use um placeholder e verifique como o método Assign funciona no link abaixo https://tensorflow.google.cn/api_docs/python/tf/Variable?hl=zh-cn#assign )**\n",
    "\n",
    "\n",
    "R: Você pode especificar o valor inicial de uma variaável ao construir o grafo, e ela sera iniciada mas tarde , quando você executaro inicializador da variável dunte a fase de execução. Si quiser alterar o valor dessa variável para qualquer coisa desejada a fase de execução, a opção mas simples é criar um nó de atribuição (durante a fase de conctrução do grafo) com a utlização da função tf.assingn() levando a variavel e um placeholder a passarem como parametros. Dutante a fase de execução, voce pode executar a operação de atribuição e fornevcer o novo valor da variavel usando placeholder."
   ]
  },
  {
   "cell_type": "code",
   "execution_count": 1,
   "metadata": {},
   "outputs": [
    {
     "name": "stderr",
     "output_type": "stream",
     "text": [
      "/srv/conda/envs/notebook/lib/python3.7/site-packages/tensorflow/python/framework/dtypes.py:526: FutureWarning: Passing (type, 1) or '1type' as a synonym of type is deprecated; in a future version of numpy, it will be understood as (type, (1,)) / '(1,)type'.\n",
      "  _np_qint8 = np.dtype([(\"qint8\", np.int8, 1)])\n",
      "/srv/conda/envs/notebook/lib/python3.7/site-packages/tensorflow/python/framework/dtypes.py:527: FutureWarning: Passing (type, 1) or '1type' as a synonym of type is deprecated; in a future version of numpy, it will be understood as (type, (1,)) / '(1,)type'.\n",
      "  _np_quint8 = np.dtype([(\"quint8\", np.uint8, 1)])\n",
      "/srv/conda/envs/notebook/lib/python3.7/site-packages/tensorflow/python/framework/dtypes.py:528: FutureWarning: Passing (type, 1) or '1type' as a synonym of type is deprecated; in a future version of numpy, it will be understood as (type, (1,)) / '(1,)type'.\n",
      "  _np_qint16 = np.dtype([(\"qint16\", np.int16, 1)])\n",
      "/srv/conda/envs/notebook/lib/python3.7/site-packages/tensorflow/python/framework/dtypes.py:529: FutureWarning: Passing (type, 1) or '1type' as a synonym of type is deprecated; in a future version of numpy, it will be understood as (type, (1,)) / '(1,)type'.\n",
      "  _np_quint16 = np.dtype([(\"quint16\", np.uint16, 1)])\n",
      "/srv/conda/envs/notebook/lib/python3.7/site-packages/tensorflow/python/framework/dtypes.py:530: FutureWarning: Passing (type, 1) or '1type' as a synonym of type is deprecated; in a future version of numpy, it will be understood as (type, (1,)) / '(1,)type'.\n",
      "  _np_qint32 = np.dtype([(\"qint32\", np.int32, 1)])\n",
      "/srv/conda/envs/notebook/lib/python3.7/site-packages/tensorflow/python/framework/dtypes.py:535: FutureWarning: Passing (type, 1) or '1type' as a synonym of type is deprecated; in a future version of numpy, it will be understood as (type, (1,)) / '(1,)type'.\n",
      "  np_resource = np.dtype([(\"resource\", np.ubyte, 1)])\n"
     ]
    },
    {
     "ename": "NameError",
     "evalue": "name 'shape' is not defined",
     "output_type": "error",
     "traceback": [
      "\u001b[0;31m---------------------------------------------------------------------------\u001b[0m",
      "\u001b[0;31mNameError\u001b[0m                                 Traceback (most recent call last)",
      "\u001b[0;32m<ipython-input-1-37e36d21f528>\u001b[0m in \u001b[0;36m<module>\u001b[0;34m\u001b[0m\n\u001b[1;32m      1\u001b[0m \u001b[0;32mimport\u001b[0m \u001b[0mtensorflow\u001b[0m \u001b[0;32mas\u001b[0m \u001b[0mtf\u001b[0m\u001b[0;34m\u001b[0m\u001b[0;34m\u001b[0m\u001b[0m\n\u001b[1;32m      2\u001b[0m \u001b[0;34m\u001b[0m\u001b[0m\n\u001b[0;32m----> 3\u001b[0;31m \u001b[0mx\u001b[0m \u001b[0;34m=\u001b[0m \u001b[0mtf\u001b[0m\u001b[0;34m.\u001b[0m\u001b[0mVariable\u001b[0m\u001b[0;34m(\u001b[0m\u001b[0mtf\u001b[0m\u001b[0;34m.\u001b[0m\u001b[0mrandom_uniform\u001b[0m\u001b[0;34m(\u001b[0m\u001b[0mshape\u001b[0m\u001b[0;34m(\u001b[0m\u001b[0;34m)\u001b[0m\u001b[0;34m,\u001b[0m\u001b[0mminval\u001b[0m\u001b[0;34m=\u001b[0m\u001b[0;36m0.0\u001b[0m\u001b[0;34m,\u001b[0m \u001b[0mmaxval\u001b[0m\u001b[0;34m=\u001b[0m\u001b[0;36m1.0\u001b[0m\u001b[0;34m)\u001b[0m\u001b[0;34m)\u001b[0m\u001b[0;34m\u001b[0m\u001b[0;34m\u001b[0m\u001b[0m\n\u001b[0m\u001b[1;32m      4\u001b[0m \u001b[0mx_new_val\u001b[0m \u001b[0;34m=\u001b[0m \u001b[0mtf\u001b[0m\u001b[0;34m.\u001b[0m\u001b[0mplaceholder\u001b[0m\u001b[0;34m(\u001b[0m\u001b[0mshape\u001b[0m\u001b[0;34m(\u001b[0m\u001b[0;34m)\u001b[0m\u001b[0;34m,\u001b[0m \u001b[0mdtype\u001b[0m\u001b[0;34m=\u001b[0m\u001b[0mtf\u001b[0m\u001b[0;34m.\u001b[0m\u001b[0mfloat32\u001b[0m\u001b[0;34m)\u001b[0m\u001b[0;34m\u001b[0m\u001b[0;34m\u001b[0m\u001b[0m\n\u001b[1;32m      5\u001b[0m \u001b[0mx_assign\u001b[0m \u001b[0;34m=\u001b[0m \u001b[0mtf\u001b[0m\u001b[0;34m.\u001b[0m\u001b[0massign\u001b[0m\u001b[0;34m(\u001b[0m\u001b[0mx\u001b[0m\u001b[0;34m,\u001b[0m \u001b[0mx_new_val\u001b[0m\u001b[0;34m)\u001b[0m\u001b[0;34m\u001b[0m\u001b[0;34m\u001b[0m\u001b[0m\n",
      "\u001b[0;31mNameError\u001b[0m: name 'shape' is not defined"
     ]
    }
   ],
   "source": [
    "import tensorflow as tf\n",
    "\n",
    "x = tf.Variable(tf.random_uniform(shape(),minval=0.0, maxval=1.0))\n",
    "x_new_val = tf.placeholder(shape(), dtype=tf.float32)\n",
    "x_assign = tf.assign(x, x_new_val)\n",
    "\n",
    "with tf.Session():\n",
    "    x.initializer.run() #random number is sampled *now*\n",
    "    print(x.eval()) #0.646157 (some random number )\n",
    "    \n",
    "    \n",
    "    x_assign.eval(feed_dict={x_new_val: 5.0})\n",
    "    print(x.eval()) #5.0"
   ]
  },
  {
   "cell_type": "code",
   "execution_count": null,
   "metadata": {},
   "outputs": [],
   "source": []
  }
 ],
 "metadata": {
  "kernelspec": {
   "display_name": "Python 3",
   "language": "python",
   "name": "python3"
  },
  "language_info": {
   "codemirror_mode": {
    "name": "ipython",
    "version": 3
   },
   "file_extension": ".py",
   "mimetype": "text/x-python",
   "name": "python",
   "nbconvert_exporter": "python",
   "pygments_lexer": "ipython3",
   "version": "3.7.6"
  }
 },
 "nbformat": 4,
 "nbformat_minor": 4
}
